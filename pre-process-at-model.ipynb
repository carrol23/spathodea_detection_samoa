{
 "cells": [
  {
   "cell_type": "markdown",
   "id": "0a3df252-8657-487a-bdbb-c73c6f736230",
   "metadata": {},
   "source": [
    "## Pre-processing for AT WS Model\n",
    "\n",
    "Preprocessing steps for modelling script. In this script the following is done:\n",
    "1. we combine all feature dataset (stack all feature datasets - spectral and elevation based)\n",
    "2. perform mask on feature dataset stack\n",
    "3. perform statistics (zs) for training data to be used for the modelling.\n",
    "\n",
    "Once these datasets are saved, we then import these into the final modelling script (without need for reptition) as these are process intensive."
   ]
  },
  {
   "cell_type": "code",
   "execution_count": 1,
   "id": "08c7de5c-f5ed-4761-9c5e-d66396e3f360",
   "metadata": {},
   "outputs": [],
   "source": [
    "# install libraries\n",
    "import os\n",
    "import rasterio as rio\n",
    "import numpy as np\n",
    "import pandas as pd\n",
    "\n",
    "import geopandas as gpd\n",
    "from osgeo import osr\n",
    "from osgeo import gdal, gdal_array\n",
    "\n",
    "from rsgislib import zonalstats"
   ]
  },
  {
   "cell_type": "code",
   "execution_count": 2,
   "id": "1e200855-79f6-4b9a-ad01-4bdc22a1abcc",
   "metadata": {},
   "outputs": [
    {
     "data": {
      "text/plain": [
       "{'divide': 'warn', 'over': 'warn', 'under': 'ignore', 'invalid': 'warn'}"
      ]
     },
     "execution_count": 2,
     "metadata": {},
     "output_type": "execute_result"
    }
   ],
   "source": [
    "np.seterr(divide='ignore', invalid='ignore')"
   ]
  },
  {
   "cell_type": "code",
   "execution_count": 3,
   "id": "ee0b2639-80f5-4beb-8562-d9ad252e2377",
   "metadata": {},
   "outputs": [],
   "source": [
    "# create directories to retrive and store raster data\n",
    "# feature datasets (stack layer)\n",
    "fn = 'C:/Data/atulip/ws/subset_area/site0/all/feature_dataset/' # file with individual feature datasets\n",
    "out_fn = 'C:/Data/atulip/ws/subset_area/site0/all/pre/' # file to export stacked dataset, masked dataset\n",
    "stack = out_fn + 'stack.tif'\n",
    "\n",
    "# mask datasets\n",
    "mask_fn = 'C:/Data/atulip/ws/subset_area/site0/site0_tree_mask_final.tif'\n",
    "mask_array_fn = out_fn + 'masked_stack.tif'"
   ]
  },
  {
   "cell_type": "code",
   "execution_count": 4,
   "id": "0ed56e18-584d-4e10-b39e-fa02ef534b2a",
   "metadata": {},
   "outputs": [],
   "source": [
    "# get layer name \n",
    "file_ls = [f for f in os.listdir(fn) if os.path.isfile(os.path.join(fn, f))]\n",
    "\n",
    "# generate filepaths for each file in the feature dataset\n",
    "ls = []\n",
    "for i in range(0,len(file_ls)):\n",
    "    id = os.path.join(fn+file_ls[i])\n",
    "    # print(id)\n",
    "    ls.append(id)"
   ]
  },
  {
   "cell_type": "markdown",
   "id": "d39780c2-b812-4eca-a7c3-3338ed4c79b6",
   "metadata": {},
   "source": [
    "#### 1. Create raster stack (45 feature datasets)"
   ]
  },
  {
   "cell_type": "code",
   "execution_count": 5,
   "id": "5fb33f59-0130-4fb0-8c94-b31cb9402857",
   "metadata": {},
   "outputs": [],
   "source": [
    "# load in the first feature dataset and read in metadata\n",
    "with rio.open(ls[1]) as src0:\n",
    "    meta = src0.meta\n",
    "    ds_1 = src0.read()\n",
    "    ds_1 = ds_1[0,:,:] # to get two dimensions of array and utilise later when saving/exporting result\n",
    "# update to the total no of layers\n",
    "meta.update(count = len(ls), dtype = 'float32', nodata = -9999) # update metadata band count, datatype and nodata as -999 instead of 0"
   ]
  },
  {
   "cell_type": "code",
   "execution_count": 6,
   "id": "c23a3087-7430-43ac-b53d-0514991eb14f",
   "metadata": {},
   "outputs": [],
   "source": [
    "# stack raster from list and write - RUN ONCE, unless new covariates/layers are added in - to save time and computing space\n",
    "with rio.open(stack, 'w', **meta) as dst:\n",
    "    for id, layer in enumerate(ls, start = 1):\n",
    "        with rio.open(layer) as src1:\n",
    "            dst.write_band(id, src1.read(1))\n",
    "    dst.descriptions = tuple(file_ls)"
   ]
  },
  {
   "cell_type": "code",
   "execution_count": 7,
   "id": "2bfec427-3be3-4691-8f5c-295f9b5d1cbb",
   "metadata": {},
   "outputs": [],
   "source": [
    "# load in stacked raster and prepare for step 2\n",
    "# open new stack (or re-open previously crated stack), this must also then be reshaped\n",
    "with rio.open(stack) as src:\n",
    "    # get metadata from dataset\n",
    "    bcount = src.count\n",
    "    tags = src.tags()\n",
    "    stack_r = src.read()\n",
    "    src_meta = src.profile"
   ]
  },
  {
   "cell_type": "code",
   "execution_count": 8,
   "id": "03af7047-c3f2-4b50-af9e-aacd6a30c0d6",
   "metadata": {},
   "outputs": [
    {
     "data": {
      "text/plain": [
       "(9423, 22127, 43)"
      ]
     },
     "execution_count": 8,
     "metadata": {},
     "output_type": "execute_result"
    }
   ],
   "source": [
    "# rearrange shape of the image stack to train and predict on\n",
    "img = np.transpose(stack_r,(1,2,0))\n",
    "img.shape # must be col, row, band"
   ]
  },
  {
   "cell_type": "markdown",
   "id": "2a07903f-86d9-4c20-b6df-52200ef08328",
   "metadata": {},
   "source": [
    "#### 2. Create masked stack feature dataset"
   ]
  },
  {
   "cell_type": "code",
   "execution_count": 9,
   "id": "e87187de-1633-4bea-996e-e62ec60ab6e6",
   "metadata": {},
   "outputs": [],
   "source": [
    "# load in a mask image to make the image for prediction - skip if masked previously\n",
    "with rio.open(mask_fn) as dt:\n",
    "    raster_array = dt.read()\n",
    "    bc = dt.count"
   ]
  },
  {
   "cell_type": "code",
   "execution_count": 10,
   "id": "6b240e7d-b50e-4012-b02c-77bb0edf08f4",
   "metadata": {},
   "outputs": [],
   "source": [
    "# change values (currently 0 = non-tree(mask), 1=tree (no mask))\n",
    "# Replace 0 (non-tree - to mask) with True and 1 (tree - no mask) with False\n",
    "mask_array = np.select([raster_array == -9999, raster_array == 1], [1,0], raster_array)\n",
    "# change dimension of array\n",
    "mask_array = np.transpose(mask_array,(1,2,0))"
   ]
  },
  {
   "cell_type": "code",
   "execution_count": 11,
   "id": "5108d425-63c3-4635-b81d-093b6fcf80ce",
   "metadata": {},
   "outputs": [
    {
     "data": {
      "text/plain": [
       "(9423, 22127, 43)"
      ]
     },
     "execution_count": 11,
     "metadata": {},
     "output_type": "execute_result"
    }
   ],
   "source": [
    "# repeat array across axis 1, x number of bands in the stacked array\n",
    "mask = np.repeat(mask_array, bcount, axis = 2)\n",
    "mask.shape # shape must be row, col, band"
   ]
  },
  {
   "cell_type": "code",
   "execution_count": 12,
   "id": "2181f266-a3ea-4d42-94f3-5099804e577e",
   "metadata": {},
   "outputs": [],
   "source": [
    "# perform mask on the image\n",
    "X_masked_array = np.ma.masked_array(img, mask=mask, fill_value = -9999)\n",
    "# X_masked_array"
   ]
  },
  {
   "cell_type": "code",
   "execution_count": 13,
   "id": "28cb908a-d1d4-4c94-9a0e-ab0b09790536",
   "metadata": {},
   "outputs": [],
   "source": [
    "# rearrange shape of masked stack to write stack to local folder (bands, rows, cols)\n",
    "masked_array = np.transpose(X_masked_array,(2,0,1))\n",
    "# masked_array# rearrange shape of masked stack to write stack to local folder (bands, rows, cols)"
   ]
  },
  {
   "cell_type": "code",
   "execution_count": 14,
   "id": "d1483ed7-d481-4c69-b3ee-8193d325f99b",
   "metadata": {},
   "outputs": [],
   "source": [
    "# write masked array stack to file - skip if already created, mask stack is opened later when refining the feature selection (and reshaped)\n",
    "with rio.open(mask_array_fn, 'w', **meta) as dst:\n",
    "    dst.write(masked_array)\n",
    "    dst.descriptions = tuple(file_ls)"
   ]
  },
  {
   "cell_type": "code",
   "execution_count": 15,
   "id": "c30b9b83-7b71-447e-a8c7-5a815c8b2a73",
   "metadata": {},
   "outputs": [
    {
     "name": "stdout",
     "output_type": "stream",
     "text": [
      "(208502721, 43)\n"
     ]
    }
   ],
   "source": [
    "# reshape numpy to match the image\n",
    "X_array = X_masked_array[:,:,:bcount].reshape(-1, X_masked_array.shape[-1])\n",
    "print(X_array.shape) # is a numpy ndarray"
   ]
  },
  {
   "cell_type": "markdown",
   "id": "4a4c3b6e-520e-4701-8ea9-1eda23c7c504",
   "metadata": {},
   "source": [
    "#### 3. Calculate zonal statistics on ground training data points using masked stack"
   ]
  },
  {
   "cell_type": "markdown",
   "id": "cb1829da-fc62-4707-be47-c615ffc9859d",
   "metadata": {},
   "source": [
    "##### Create proportional training data"
   ]
  },
  {
   "cell_type": "code",
   "execution_count": 16,
   "id": "1f3a53a6-d378-4b92-ae44-85b44d3c0279",
   "metadata": {},
   "outputs": [
    {
     "data": {
      "text/html": [
       "<div>\n",
       "<style scoped>\n",
       "    .dataframe tbody tr th:only-of-type {\n",
       "        vertical-align: middle;\n",
       "    }\n",
       "\n",
       "    .dataframe tbody tr th {\n",
       "        vertical-align: top;\n",
       "    }\n",
       "\n",
       "    .dataframe thead th {\n",
       "        text-align: right;\n",
       "    }\n",
       "</style>\n",
       "<table border=\"1\" class=\"dataframe\">\n",
       "  <thead>\n",
       "    <tr style=\"text-align: right;\">\n",
       "      <th></th>\n",
       "      <th>Feature</th>\n",
       "      <th>class_id</th>\n",
       "      <th>geometry</th>\n",
       "    </tr>\n",
       "  </thead>\n",
       "  <tbody>\n",
       "    <tr>\n",
       "      <th>0</th>\n",
       "      <td>Other</td>\n",
       "      <td>2.0</td>\n",
       "      <td>POINT (417624.429 8468073.953)</td>\n",
       "    </tr>\n",
       "    <tr>\n",
       "      <th>1</th>\n",
       "      <td>African Tulip</td>\n",
       "      <td>1.0</td>\n",
       "      <td>POINT (417648.292 8468031.229)</td>\n",
       "    </tr>\n",
       "    <tr>\n",
       "      <th>2</th>\n",
       "      <td>Other</td>\n",
       "      <td>2.0</td>\n",
       "      <td>POINT (417535.969 8468005.374)</td>\n",
       "    </tr>\n",
       "    <tr>\n",
       "      <th>3</th>\n",
       "      <td>Other</td>\n",
       "      <td>2.0</td>\n",
       "      <td>POINT (418181.133 8469393.981)</td>\n",
       "    </tr>\n",
       "    <tr>\n",
       "      <th>4</th>\n",
       "      <td>Other</td>\n",
       "      <td>2.0</td>\n",
       "      <td>POINT (417828.325 8470171.153)</td>\n",
       "    </tr>\n",
       "  </tbody>\n",
       "</table>\n",
       "</div>"
      ],
      "text/plain": [
       "         Feature  class_id                        geometry\n",
       "0          Other       2.0  POINT (417624.429 8468073.953)\n",
       "1  African Tulip       1.0  POINT (417648.292 8468031.229)\n",
       "2          Other       2.0  POINT (417535.969 8468005.374)\n",
       "3          Other       2.0  POINT (418181.133 8469393.981)\n",
       "4          Other       2.0  POINT (417828.325 8470171.153)"
      ]
     },
     "execution_count": 16,
     "metadata": {},
     "output_type": "execute_result"
    }
   ],
   "source": [
    "# FIRST - WHERE TRAINING DATA CLASSES ARE NOT PROPORTIONAL, perform a random sampling to ensure these are proportional\n",
    "# open current training data\n",
    "td_fn = 'C:/Data/atulip/ws/subset_area/site0/training_data/'\n",
    "td_layer = td_fn + 'site0_training.shp'\n",
    "# open training data using gdal\n",
    "input_data = gpd.read_file(td_layer)\n",
    "input_data.head()"
   ]
  },
  {
   "cell_type": "code",
   "execution_count": 17,
   "id": "dabe1063-d3c9-4e03-95d3-8efe61f6329b",
   "metadata": {},
   "outputs": [
    {
     "data": {
      "text/html": [
       "<div>\n",
       "<style scoped>\n",
       "    .dataframe tbody tr th:only-of-type {\n",
       "        vertical-align: middle;\n",
       "    }\n",
       "\n",
       "    .dataframe tbody tr th {\n",
       "        vertical-align: top;\n",
       "    }\n",
       "\n",
       "    .dataframe thead th {\n",
       "        text-align: right;\n",
       "    }\n",
       "</style>\n",
       "<table border=\"1\" class=\"dataframe\">\n",
       "  <thead>\n",
       "    <tr style=\"text-align: right;\">\n",
       "      <th></th>\n",
       "      <th>Feature</th>\n",
       "      <th>class_id</th>\n",
       "      <th>geometry</th>\n",
       "    </tr>\n",
       "  </thead>\n",
       "  <tbody>\n",
       "    <tr>\n",
       "      <th>1</th>\n",
       "      <td>African Tulip</td>\n",
       "      <td>1.0</td>\n",
       "      <td>POINT (417648.292 8468031.229)</td>\n",
       "    </tr>\n",
       "    <tr>\n",
       "      <th>5</th>\n",
       "      <td>African Tulip</td>\n",
       "      <td>1.0</td>\n",
       "      <td>POINT (417808.243 8467342.295)</td>\n",
       "    </tr>\n",
       "    <tr>\n",
       "      <th>7</th>\n",
       "      <td>African Tulip</td>\n",
       "      <td>1.0</td>\n",
       "      <td>POINT (417997.783 8467241.584)</td>\n",
       "    </tr>\n",
       "    <tr>\n",
       "      <th>8</th>\n",
       "      <td>African Tulip</td>\n",
       "      <td>1.0</td>\n",
       "      <td>POINT (417728.569 8467852.090)</td>\n",
       "    </tr>\n",
       "    <tr>\n",
       "      <th>10</th>\n",
       "      <td>African Tulip</td>\n",
       "      <td>1.0</td>\n",
       "      <td>POINT (417989.324 8467659.639)</td>\n",
       "    </tr>\n",
       "    <tr>\n",
       "      <th>...</th>\n",
       "      <td>...</td>\n",
       "      <td>...</td>\n",
       "      <td>...</td>\n",
       "    </tr>\n",
       "    <tr>\n",
       "      <th>756</th>\n",
       "      <td>Other</td>\n",
       "      <td>2.0</td>\n",
       "      <td>POINT (416353.615 8467790.857)</td>\n",
       "    </tr>\n",
       "    <tr>\n",
       "      <th>655</th>\n",
       "      <td>Other</td>\n",
       "      <td>2.0</td>\n",
       "      <td>POINT (417633.405 8469922.890)</td>\n",
       "    </tr>\n",
       "    <tr>\n",
       "      <th>927</th>\n",
       "      <td>Other</td>\n",
       "      <td>2.0</td>\n",
       "      <td>POINT (421852.466 8469285.770)</td>\n",
       "    </tr>\n",
       "    <tr>\n",
       "      <th>437</th>\n",
       "      <td>Other</td>\n",
       "      <td>2.0</td>\n",
       "      <td>POINT (415855.188 8467189.524)</td>\n",
       "    </tr>\n",
       "    <tr>\n",
       "      <th>1605</th>\n",
       "      <td>Other</td>\n",
       "      <td>2.0</td>\n",
       "      <td>POINT (412783.768 8468880.038)</td>\n",
       "    </tr>\n",
       "  </tbody>\n",
       "</table>\n",
       "<p>698 rows × 3 columns</p>\n",
       "</div>"
      ],
      "text/plain": [
       "            Feature  class_id                        geometry\n",
       "1     African Tulip       1.0  POINT (417648.292 8468031.229)\n",
       "5     African Tulip       1.0  POINT (417808.243 8467342.295)\n",
       "7     African Tulip       1.0  POINT (417997.783 8467241.584)\n",
       "8     African Tulip       1.0  POINT (417728.569 8467852.090)\n",
       "10    African Tulip       1.0  POINT (417989.324 8467659.639)\n",
       "...             ...       ...                             ...\n",
       "756           Other       2.0  POINT (416353.615 8467790.857)\n",
       "655           Other       2.0  POINT (417633.405 8469922.890)\n",
       "927           Other       2.0  POINT (421852.466 8469285.770)\n",
       "437           Other       2.0  POINT (415855.188 8467189.524)\n",
       "1605          Other       2.0  POINT (412783.768 8468880.038)\n",
       "\n",
       "[698 rows x 3 columns]"
      ]
     },
     "execution_count": 17,
     "metadata": {},
     "output_type": "execute_result"
    }
   ],
   "source": [
    "# SPLIT BASED ON CLASSES\n",
    "at = input_data[input_data['class_id'] == 1.0]\n",
    "other = input_data[input_data['class_id'] == 2.0]\n",
    "\n",
    "# randomly select the same nunmber of samples of class AT for OTHER class\n",
    "other_sample = other.sample(n=349)\n",
    "\n",
    "# merge the other samples and at to create the training dataset\n",
    "t_data = pd.concat([at, other_sample])\n",
    "t_data # created 668 rows of total training_data"
   ]
  },
  {
   "cell_type": "code",
   "execution_count": 18,
   "id": "5cabf572-b581-4c63-8fb6-396e49413a58",
   "metadata": {},
   "outputs": [
    {
     "data": {
      "text/plain": [
       "class_id\n",
       "1.0    349\n",
       "2.0    349\n",
       "Name: count, dtype: int64"
      ]
     },
     "execution_count": 18,
     "metadata": {},
     "output_type": "execute_result"
    }
   ],
   "source": [
    "# get breakdown of class and total class count = must be equal to each other\n",
    "t_data['class_id'].value_counts()"
   ]
  },
  {
   "cell_type": "code",
   "execution_count": 19,
   "id": "eb6138b8-19b9-4133-99f3-937035a71903",
   "metadata": {},
   "outputs": [],
   "source": [
    "# EXPORT\n",
    "lyr = 'gcp_prop.gpkg'\n",
    "t_data.to_file(td_fn + lyr)"
   ]
  },
  {
   "cell_type": "markdown",
   "id": "6480237f-9dc4-403c-a57d-99c163511355",
   "metadata": {},
   "source": [
    "##### Calculate zonal statistics on ground training data (point value)"
   ]
  },
  {
   "cell_type": "code",
   "execution_count": 20,
   "id": "b8e606e1-0df4-4024-aa3f-49fa2aef8dc6",
   "metadata": {},
   "outputs": [],
   "source": [
    "# file data file\n",
    "vec_file = 'C:/Data/atulip/ws/subset_area/site0/training_data/'\n",
    "lyr = 'gcp_prop.gpkg'"
   ]
  },
  {
   "cell_type": "code",
   "execution_count": 21,
   "id": "ec01cbb4-8e2b-4964-9fcb-034af7819196",
   "metadata": {},
   "outputs": [
    {
     "name": "stdout",
     "output_type": "stream",
     "text": [
      "calculating..... ASM\n"
     ]
    },
    {
     "name": "stderr",
     "output_type": "stream",
     "text": [
      "100%|████████████████████████████████████████████████████████████████████████████| 698/698 [00:05<00:00, 136.81it/s]\n"
     ]
    },
    {
     "name": "stdout",
     "output_type": "stream",
     "text": [
      "calculating..... blue\n"
     ]
    },
    {
     "name": "stderr",
     "output_type": "stream",
     "text": [
      "100%|████████████████████████████████████████████████████████████████████████████| 698/698 [00:03<00:00, 186.32it/s]\n"
     ]
    },
    {
     "name": "stdout",
     "output_type": "stream",
     "text": [
      "calculating..... blue_laplacian\n"
     ]
    },
    {
     "name": "stderr",
     "output_type": "stream",
     "text": [
      "100%|████████████████████████████████████████████████████████████████████████████| 698/698 [00:03<00:00, 219.50it/s]\n"
     ]
    },
    {
     "name": "stdout",
     "output_type": "stream",
     "text": [
      "calculating..... blue_maxd\n"
     ]
    },
    {
     "name": "stderr",
     "output_type": "stream",
     "text": [
      "100%|████████████████████████████████████████████████████████████████████████████| 698/698 [00:03<00:00, 178.90it/s]\n"
     ]
    },
    {
     "name": "stdout",
     "output_type": "stream",
     "text": [
      "calculating..... b_var\n"
     ]
    },
    {
     "name": "stderr",
     "output_type": "stream",
     "text": [
      "100%|████████████████████████████████████████████████████████████████████████████| 698/698 [00:03<00:00, 232.00it/s]\n"
     ]
    },
    {
     "name": "stdout",
     "output_type": "stream",
     "text": [
      "calculating..... Contrast\n"
     ]
    },
    {
     "name": "stderr",
     "output_type": "stream",
     "text": [
      "100%|████████████████████████████████████████████████████████████████████████████| 698/698 [00:03<00:00, 213.32it/s]\n"
     ]
    },
    {
     "name": "stdout",
     "output_type": "stream",
     "text": [
      "calculating..... Correlation\n"
     ]
    },
    {
     "name": "stderr",
     "output_type": "stream",
     "text": [
      "100%|████████████████████████████████████████████████████████████████████████████| 698/698 [00:02<00:00, 260.13it/s]\n"
     ]
    },
    {
     "name": "stdout",
     "output_type": "stream",
     "text": [
      "calculating..... dem\n"
     ]
    },
    {
     "name": "stderr",
     "output_type": "stream",
     "text": [
      "100%|████████████████████████████████████████████████████████████████████████████| 698/698 [00:03<00:00, 206.63it/s]\n"
     ]
    },
    {
     "name": "stdout",
     "output_type": "stream",
     "text": [
      "calculating..... dem_lap\n"
     ]
    },
    {
     "name": "stderr",
     "output_type": "stream",
     "text": [
      "100%|████████████████████████████████████████████████████████████████████████████| 698/698 [00:03<00:00, 212.24it/s]\n"
     ]
    },
    {
     "name": "stdout",
     "output_type": "stream",
     "text": [
      "calculating..... dem_maxd\n"
     ]
    },
    {
     "name": "stderr",
     "output_type": "stream",
     "text": [
      "100%|████████████████████████████████████████████████████████████████████████████| 698/698 [00:02<00:00, 243.03it/s]\n"
     ]
    },
    {
     "name": "stdout",
     "output_type": "stream",
     "text": [
      "calculating..... dem_slope\n"
     ]
    },
    {
     "name": "stderr",
     "output_type": "stream",
     "text": [
      "100%|████████████████████████████████████████████████████████████████████████████| 698/698 [00:03<00:00, 212.70it/s]\n"
     ]
    },
    {
     "name": "stdout",
     "output_type": "stream",
     "text": [
      "calculating..... dhm\n"
     ]
    },
    {
     "name": "stderr",
     "output_type": "stream",
     "text": [
      "100%|████████████████████████████████████████████████████████████████████████████| 698/698 [00:03<00:00, 192.67it/s]\n"
     ]
    },
    {
     "name": "stdout",
     "output_type": "stream",
     "text": [
      "calculating..... dhm_lap\n"
     ]
    },
    {
     "name": "stderr",
     "output_type": "stream",
     "text": [
      "100%|████████████████████████████████████████████████████████████████████████████| 698/698 [00:02<00:00, 240.40it/s]\n"
     ]
    },
    {
     "name": "stdout",
     "output_type": "stream",
     "text": [
      "calculating..... dhm_maxd\n"
     ]
    },
    {
     "name": "stderr",
     "output_type": "stream",
     "text": [
      "100%|████████████████████████████████████████████████████████████████████████████| 698/698 [00:03<00:00, 198.81it/s]\n"
     ]
    },
    {
     "name": "stdout",
     "output_type": "stream",
     "text": [
      "calculating..... dhm_slope\n"
     ]
    },
    {
     "name": "stderr",
     "output_type": "stream",
     "text": [
      "100%|████████████████████████████████████████████████████████████████████████████| 698/698 [00:02<00:00, 233.09it/s]\n"
     ]
    },
    {
     "name": "stdout",
     "output_type": "stream",
     "text": [
      "calculating..... dtm\n"
     ]
    },
    {
     "name": "stderr",
     "output_type": "stream",
     "text": [
      "100%|████████████████████████████████████████████████████████████████████████████| 698/698 [00:03<00:00, 198.31it/s]\n"
     ]
    },
    {
     "name": "stdout",
     "output_type": "stream",
     "text": [
      "calculating..... dtm_lap\n"
     ]
    },
    {
     "name": "stderr",
     "output_type": "stream",
     "text": [
      "100%|████████████████████████████████████████████████████████████████████████████| 698/698 [00:03<00:00, 190.95it/s]\n"
     ]
    },
    {
     "name": "stdout",
     "output_type": "stream",
     "text": [
      "calculating..... dtm_maxd\n"
     ]
    },
    {
     "name": "stderr",
     "output_type": "stream",
     "text": [
      "100%|████████████████████████████████████████████████████████████████████████████| 698/698 [00:03<00:00, 221.42it/s]\n"
     ]
    },
    {
     "name": "stdout",
     "output_type": "stream",
     "text": [
      "calculating..... dtm_slope\n"
     ]
    },
    {
     "name": "stderr",
     "output_type": "stream",
     "text": [
      "100%|████████████████████████████████████████████████████████████████████████████| 698/698 [00:04<00:00, 170.26it/s]\n"
     ]
    },
    {
     "name": "stdout",
     "output_type": "stream",
     "text": [
      "calculating..... ebi\n"
     ]
    },
    {
     "name": "stderr",
     "output_type": "stream",
     "text": [
      "100%|████████████████████████████████████████████████████████████████████████████| 698/698 [00:03<00:00, 181.83it/s]\n"
     ]
    },
    {
     "name": "stdout",
     "output_type": "stream",
     "text": [
      "calculating..... Energy\n"
     ]
    },
    {
     "name": "stderr",
     "output_type": "stream",
     "text": [
      "100%|████████████████████████████████████████████████████████████████████████████| 698/698 [00:03<00:00, 208.95it/s]\n"
     ]
    },
    {
     "name": "stdout",
     "output_type": "stream",
     "text": [
      "calculating..... ent\n"
     ]
    },
    {
     "name": "stderr",
     "output_type": "stream",
     "text": [
      "100%|████████████████████████████████████████████████████████████████████████████| 698/698 [00:03<00:00, 181.18it/s]\n"
     ]
    },
    {
     "name": "stdout",
     "output_type": "stream",
     "text": [
      "calculating..... fdhm\n"
     ]
    },
    {
     "name": "stderr",
     "output_type": "stream",
     "text": [
      "100%|████████████████████████████████████████████████████████████████████████████| 698/698 [00:03<00:00, 193.42it/s]\n"
     ]
    },
    {
     "name": "stdout",
     "output_type": "stream",
     "text": [
      "calculating..... fdhm_lap\n"
     ]
    },
    {
     "name": "stderr",
     "output_type": "stream",
     "text": [
      "100%|████████████████████████████████████████████████████████████████████████████| 698/698 [00:03<00:00, 178.31it/s]\n"
     ]
    },
    {
     "name": "stdout",
     "output_type": "stream",
     "text": [
      "calculating..... fdhm_maxd\n"
     ]
    },
    {
     "name": "stderr",
     "output_type": "stream",
     "text": [
      "100%|████████████████████████████████████████████████████████████████████████████| 698/698 [00:04<00:00, 173.81it/s]\n"
     ]
    },
    {
     "name": "stdout",
     "output_type": "stream",
     "text": [
      "calculating..... fdhm_slope\n"
     ]
    },
    {
     "name": "stderr",
     "output_type": "stream",
     "text": [
      "100%|████████████████████████████████████████████████████████████████████████████| 698/698 [00:03<00:00, 205.74it/s]\n"
     ]
    },
    {
     "name": "stdout",
     "output_type": "stream",
     "text": [
      "calculating..... gndvi\n"
     ]
    },
    {
     "name": "stderr",
     "output_type": "stream",
     "text": [
      "100%|████████████████████████████████████████████████████████████████████████████| 698/698 [00:04<00:00, 168.97it/s]\n"
     ]
    },
    {
     "name": "stdout",
     "output_type": "stream",
     "text": [
      "calculating..... green\n"
     ]
    },
    {
     "name": "stderr",
     "output_type": "stream",
     "text": [
      "100%|████████████████████████████████████████████████████████████████████████████| 698/698 [00:04<00:00, 166.11it/s]\n"
     ]
    },
    {
     "name": "stdout",
     "output_type": "stream",
     "text": [
      "calculating..... green_laplacian\n"
     ]
    },
    {
     "name": "stderr",
     "output_type": "stream",
     "text": [
      "100%|████████████████████████████████████████████████████████████████████████████| 698/698 [00:03<00:00, 197.81it/s]\n"
     ]
    },
    {
     "name": "stdout",
     "output_type": "stream",
     "text": [
      "calculating..... green_maxd\n"
     ]
    },
    {
     "name": "stderr",
     "output_type": "stream",
     "text": [
      "100%|████████████████████████████████████████████████████████████████████████████| 698/698 [00:04<00:00, 159.47it/s]\n"
     ]
    },
    {
     "name": "stdout",
     "output_type": "stream",
     "text": [
      "calculating..... g_var\n"
     ]
    },
    {
     "name": "stderr",
     "output_type": "stream",
     "text": [
      "100%|████████████████████████████████████████████████████████████████████████████| 698/698 [00:03<00:00, 184.37it/s]\n"
     ]
    },
    {
     "name": "stdout",
     "output_type": "stream",
     "text": [
      "calculating..... Homogeneity\n"
     ]
    },
    {
     "name": "stderr",
     "output_type": "stream",
     "text": [
      "100%|████████████████████████████████████████████████████████████████████████████| 698/698 [00:04<00:00, 154.29it/s]\n"
     ]
    },
    {
     "name": "stdout",
     "output_type": "stream",
     "text": [
      "calculating..... ndvi\n"
     ]
    },
    {
     "name": "stderr",
     "output_type": "stream",
     "text": [
      "100%|████████████████████████████████████████████████████████████████████████████| 698/698 [00:04<00:00, 158.34it/s]\n"
     ]
    },
    {
     "name": "stdout",
     "output_type": "stream",
     "text": [
      "calculating..... nir\n"
     ]
    },
    {
     "name": "stderr",
     "output_type": "stream",
     "text": [
      "100%|████████████████████████████████████████████████████████████████████████████| 698/698 [00:03<00:00, 175.50it/s]\n"
     ]
    },
    {
     "name": "stdout",
     "output_type": "stream",
     "text": [
      "calculating..... NIR_laplacian\n"
     ]
    },
    {
     "name": "stderr",
     "output_type": "stream",
     "text": [
      "100%|████████████████████████████████████████████████████████████████████████████| 698/698 [00:04<00:00, 152.58it/s]\n"
     ]
    },
    {
     "name": "stdout",
     "output_type": "stream",
     "text": [
      "calculating..... NIR_maxd\n"
     ]
    },
    {
     "name": "stderr",
     "output_type": "stream",
     "text": [
      "100%|████████████████████████████████████████████████████████████████████████████| 698/698 [00:04<00:00, 147.41it/s]\n"
     ]
    },
    {
     "name": "stdout",
     "output_type": "stream",
     "text": [
      "calculating..... n_var\n"
     ]
    },
    {
     "name": "stderr",
     "output_type": "stream",
     "text": [
      "100%|████████████████████████████████████████████████████████████████████████████| 698/698 [00:03<00:00, 180.02it/s]\n"
     ]
    },
    {
     "name": "stdout",
     "output_type": "stream",
     "text": [
      "calculating..... red\n"
     ]
    },
    {
     "name": "stderr",
     "output_type": "stream",
     "text": [
      "100%|████████████████████████████████████████████████████████████████████████████| 698/698 [00:04<00:00, 148.99it/s]\n"
     ]
    },
    {
     "name": "stdout",
     "output_type": "stream",
     "text": [
      "calculating..... redgreen\n"
     ]
    },
    {
     "name": "stderr",
     "output_type": "stream",
     "text": [
      "100%|████████████████████████████████████████████████████████████████████████████| 698/698 [00:03<00:00, 174.78it/s]\n"
     ]
    },
    {
     "name": "stdout",
     "output_type": "stream",
     "text": [
      "calculating..... red_laplacian\n"
     ]
    },
    {
     "name": "stderr",
     "output_type": "stream",
     "text": [
      "100%|████████████████████████████████████████████████████████████████████████████| 698/698 [00:04<00:00, 145.50it/s]\n"
     ]
    },
    {
     "name": "stdout",
     "output_type": "stream",
     "text": [
      "calculating..... red_maxd\n"
     ]
    },
    {
     "name": "stderr",
     "output_type": "stream",
     "text": [
      "100%|████████████████████████████████████████████████████████████████████████████| 698/698 [00:04<00:00, 145.71it/s]\n"
     ]
    },
    {
     "name": "stdout",
     "output_type": "stream",
     "text": [
      "calculating..... r_var\n"
     ]
    },
    {
     "name": "stderr",
     "output_type": "stream",
     "text": [
      "100%|████████████████████████████████████████████████████████████████████████████| 698/698 [00:04<00:00, 162.75it/s]\n"
     ]
    },
    {
     "name": "stdout",
     "output_type": "stream",
     "text": [
      "calculating..... var\n"
     ]
    },
    {
     "name": "stderr",
     "output_type": "stream",
     "text": [
      "100%|████████████████████████████████████████████████████████████████████████████| 698/698 [00:04<00:00, 149.14it/s]\n"
     ]
    }
   ],
   "source": [
    "# extract pixel value\n",
    "for i in range(bcount):\n",
    "    print('calculating.....', file_ls[i][:-4])\n",
    "    zonalstats.ext_point_band_values_file(\n",
    "        vec_file + lyr,\n",
    "        lyr[:-5],\n",
    "        out_fn + 'masked_stack.tif',\n",
    "        img_band = i+1,\n",
    "        min_thres = -1000,\n",
    "        max_thres = 70000, # double check these values\n",
    "        out_no_data_val = -9999,\n",
    "        out_field = file_ls[i][:-4]\n",
    "    )"
   ]
  },
  {
   "cell_type": "markdown",
   "id": "9d7041c7-2a6a-4c84-bf1a-a8abe604e513",
   "metadata": {},
   "source": [
    "##### Calculate zonal statistics on ground training data (polygon value)"
   ]
  },
  {
   "cell_type": "markdown",
   "id": "05574bfa-2ae8-487d-b18c-b8398f9d2c7e",
   "metadata": {},
   "source": [
    "###### Calculating mean values based on segmentation. Polygons selected by point in polygon."
   ]
  },
  {
   "cell_type": "code",
   "execution_count": 22,
   "id": "c8df6dbc-00ca-4584-8f34-ba19562939a8",
   "metadata": {},
   "outputs": [],
   "source": [
    "# select training polygons from segmentation layer using points gcp training data\n",
    "# locate training data\n",
    "wd = 'C:/Data/atulip/ws/subset_area/site0/'\n",
    "gcp = wd + 'training_data/gcp_prop.gpkg'\n",
    "# locate segment vector layer\n",
    "seg_vec = wd + 'all/segmentation/ps_all_stack_seg_mp20.gpkg'"
   ]
  },
  {
   "cell_type": "code",
   "execution_count": 23,
   "id": "b7ea94f2-731a-497d-b968-053eee3062cd",
   "metadata": {},
   "outputs": [],
   "source": [
    "# load in training data \n",
    "training_data = gpd.read_file(gcp)\n",
    "seg_data = gpd.read_file(seg_vec)"
   ]
  },
  {
   "cell_type": "code",
   "execution_count": 24,
   "id": "951fffd6-5671-466a-8178-eac7a843793e",
   "metadata": {},
   "outputs": [
    {
     "data": {
      "text/html": [
       "<div>\n",
       "<style scoped>\n",
       "    .dataframe tbody tr th:only-of-type {\n",
       "        vertical-align: middle;\n",
       "    }\n",
       "\n",
       "    .dataframe tbody tr th {\n",
       "        vertical-align: top;\n",
       "    }\n",
       "\n",
       "    .dataframe thead th {\n",
       "        text-align: right;\n",
       "    }\n",
       "</style>\n",
       "<table border=\"1\" class=\"dataframe\">\n",
       "  <thead>\n",
       "    <tr style=\"text-align: right;\">\n",
       "      <th></th>\n",
       "      <th>PXLVAL</th>\n",
       "      <th>geometry</th>\n",
       "      <th>index_right</th>\n",
       "      <th>Feature</th>\n",
       "      <th>class_id</th>\n",
       "      <th>asm</th>\n",
       "      <th>blue</th>\n",
       "      <th>blue_laplacian</th>\n",
       "      <th>blue_maxd</th>\n",
       "      <th>b_var</th>\n",
       "      <th>...</th>\n",
       "      <th>nir</th>\n",
       "      <th>nir_laplacian</th>\n",
       "      <th>nir_maxd</th>\n",
       "      <th>n_var</th>\n",
       "      <th>red</th>\n",
       "      <th>redgreen</th>\n",
       "      <th>red_laplacian</th>\n",
       "      <th>red_maxd</th>\n",
       "      <th>r_var</th>\n",
       "      <th>var</th>\n",
       "    </tr>\n",
       "  </thead>\n",
       "  <tbody>\n",
       "    <tr>\n",
       "      <th>11404</th>\n",
       "      <td>13059</td>\n",
       "      <td>POLYGON ((418044.000 8470562.000, 418044.000 8...</td>\n",
       "      <td>234</td>\n",
       "      <td>African Tulip</td>\n",
       "      <td>1.0</td>\n",
       "      <td>-9999.0</td>\n",
       "      <td>-9999.0</td>\n",
       "      <td>-9999.0</td>\n",
       "      <td>-9999.0</td>\n",
       "      <td>-9999.0</td>\n",
       "      <td>...</td>\n",
       "      <td>-9999.0</td>\n",
       "      <td>-9999.0</td>\n",
       "      <td>-9999.0</td>\n",
       "      <td>-9999.0</td>\n",
       "      <td>-9999.0</td>\n",
       "      <td>-9999.000000</td>\n",
       "      <td>-9999.0</td>\n",
       "      <td>-9999.0</td>\n",
       "      <td>-9999.0</td>\n",
       "      <td>-9999.0</td>\n",
       "    </tr>\n",
       "    <tr>\n",
       "      <th>12667</th>\n",
       "      <td>10777</td>\n",
       "      <td>POLYGON ((411430.000 8470566.000, 411430.000 8...</td>\n",
       "      <td>349</td>\n",
       "      <td>Other</td>\n",
       "      <td>2.0</td>\n",
       "      <td>1.0</td>\n",
       "      <td>322.0</td>\n",
       "      <td>435.0</td>\n",
       "      <td>498.0</td>\n",
       "      <td>0.0</td>\n",
       "      <td>...</td>\n",
       "      <td>4666.0</td>\n",
       "      <td>61374.0</td>\n",
       "      <td>4451.0</td>\n",
       "      <td>0.0</td>\n",
       "      <td>549.0</td>\n",
       "      <td>-0.170068</td>\n",
       "      <td>4320.0</td>\n",
       "      <td>4674.0</td>\n",
       "      <td>0.0</td>\n",
       "      <td>0.0</td>\n",
       "    </tr>\n",
       "    <tr>\n",
       "      <th>16582</th>\n",
       "      <td>16492</td>\n",
       "      <td>POLYGON ((417317.000 8470555.500, 417317.000 8...</td>\n",
       "      <td>41</td>\n",
       "      <td>African Tulip</td>\n",
       "      <td>1.0</td>\n",
       "      <td>-9999.0</td>\n",
       "      <td>-9999.0</td>\n",
       "      <td>-9999.0</td>\n",
       "      <td>-9999.0</td>\n",
       "      <td>-9999.0</td>\n",
       "      <td>...</td>\n",
       "      <td>-9999.0</td>\n",
       "      <td>-9999.0</td>\n",
       "      <td>-9999.0</td>\n",
       "      <td>-9999.0</td>\n",
       "      <td>-9999.0</td>\n",
       "      <td>-9999.000000</td>\n",
       "      <td>-9999.0</td>\n",
       "      <td>-9999.0</td>\n",
       "      <td>-9999.0</td>\n",
       "      <td>-9999.0</td>\n",
       "    </tr>\n",
       "    <tr>\n",
       "      <th>29279</th>\n",
       "      <td>8106</td>\n",
       "      <td>POLYGON ((411911.500 8470571.000, 411911.500 8...</td>\n",
       "      <td>602</td>\n",
       "      <td>Other</td>\n",
       "      <td>2.0</td>\n",
       "      <td>1.0</td>\n",
       "      <td>400.0</td>\n",
       "      <td>400.0</td>\n",
       "      <td>622.0</td>\n",
       "      <td>0.0</td>\n",
       "      <td>...</td>\n",
       "      <td>2944.0</td>\n",
       "      <td>63616.0</td>\n",
       "      <td>2401.0</td>\n",
       "      <td>0.0</td>\n",
       "      <td>975.0</td>\n",
       "      <td>0.126516</td>\n",
       "      <td>1737.0</td>\n",
       "      <td>2705.0</td>\n",
       "      <td>0.0</td>\n",
       "      <td>0.0</td>\n",
       "    </tr>\n",
       "    <tr>\n",
       "      <th>34211</th>\n",
       "      <td>32978</td>\n",
       "      <td>POLYGON ((411446.000 8470525.000, 411446.000 8...</td>\n",
       "      <td>427</td>\n",
       "      <td>Other</td>\n",
       "      <td>2.0</td>\n",
       "      <td>1.0</td>\n",
       "      <td>252.0</td>\n",
       "      <td>233.0</td>\n",
       "      <td>413.0</td>\n",
       "      <td>0.0</td>\n",
       "      <td>...</td>\n",
       "      <td>4684.0</td>\n",
       "      <td>61262.0</td>\n",
       "      <td>4655.0</td>\n",
       "      <td>0.0</td>\n",
       "      <td>473.0</td>\n",
       "      <td>-0.061508</td>\n",
       "      <td>4241.0</td>\n",
       "      <td>4849.0</td>\n",
       "      <td>0.0</td>\n",
       "      <td>0.0</td>\n",
       "    </tr>\n",
       "  </tbody>\n",
       "</table>\n",
       "<p>5 rows × 48 columns</p>\n",
       "</div>"
      ],
      "text/plain": [
       "       PXLVAL                                           geometry  index_right  \\\n",
       "11404   13059  POLYGON ((418044.000 8470562.000, 418044.000 8...          234   \n",
       "12667   10777  POLYGON ((411430.000 8470566.000, 411430.000 8...          349   \n",
       "16582   16492  POLYGON ((417317.000 8470555.500, 417317.000 8...           41   \n",
       "29279    8106  POLYGON ((411911.500 8470571.000, 411911.500 8...          602   \n",
       "34211   32978  POLYGON ((411446.000 8470525.000, 411446.000 8...          427   \n",
       "\n",
       "             Feature  class_id     asm    blue  blue_laplacian  blue_maxd  \\\n",
       "11404  African Tulip       1.0 -9999.0 -9999.0         -9999.0    -9999.0   \n",
       "12667          Other       2.0     1.0   322.0           435.0      498.0   \n",
       "16582  African Tulip       1.0 -9999.0 -9999.0         -9999.0    -9999.0   \n",
       "29279          Other       2.0     1.0   400.0           400.0      622.0   \n",
       "34211          Other       2.0     1.0   252.0           233.0      413.0   \n",
       "\n",
       "        b_var  ...     nir  nir_laplacian  nir_maxd   n_var     red  \\\n",
       "11404 -9999.0  ... -9999.0        -9999.0   -9999.0 -9999.0 -9999.0   \n",
       "12667     0.0  ...  4666.0        61374.0    4451.0     0.0   549.0   \n",
       "16582 -9999.0  ... -9999.0        -9999.0   -9999.0 -9999.0 -9999.0   \n",
       "29279     0.0  ...  2944.0        63616.0    2401.0     0.0   975.0   \n",
       "34211     0.0  ...  4684.0        61262.0    4655.0     0.0   473.0   \n",
       "\n",
       "          redgreen  red_laplacian  red_maxd   r_var     var  \n",
       "11404 -9999.000000        -9999.0   -9999.0 -9999.0 -9999.0  \n",
       "12667    -0.170068         4320.0    4674.0     0.0     0.0  \n",
       "16582 -9999.000000        -9999.0   -9999.0 -9999.0 -9999.0  \n",
       "29279     0.126516         1737.0    2705.0     0.0     0.0  \n",
       "34211    -0.061508         4241.0    4849.0     0.0     0.0  \n",
       "\n",
       "[5 rows x 48 columns]"
      ]
     },
     "execution_count": 24,
     "metadata": {},
     "output_type": "execute_result"
    }
   ],
   "source": [
    "# peform spatial join to select training polygons\n",
    "poly_class = gpd.sjoin(seg_data, training_data)\n",
    "poly_class.head()"
   ]
  },
  {
   "cell_type": "code",
   "execution_count": 25,
   "id": "858fe749-250a-4e73-9842-0659a379cab1",
   "metadata": {},
   "outputs": [
    {
     "data": {
      "text/html": [
       "<div>\n",
       "<style scoped>\n",
       "    .dataframe tbody tr th:only-of-type {\n",
       "        vertical-align: middle;\n",
       "    }\n",
       "\n",
       "    .dataframe tbody tr th {\n",
       "        vertical-align: top;\n",
       "    }\n",
       "\n",
       "    .dataframe thead th {\n",
       "        text-align: right;\n",
       "    }\n",
       "</style>\n",
       "<table border=\"1\" class=\"dataframe\">\n",
       "  <thead>\n",
       "    <tr style=\"text-align: right;\">\n",
       "      <th></th>\n",
       "      <th>class_id</th>\n",
       "      <th>geometry</th>\n",
       "    </tr>\n",
       "  </thead>\n",
       "  <tbody>\n",
       "    <tr>\n",
       "      <th>11404</th>\n",
       "      <td>1.0</td>\n",
       "      <td>POLYGON ((418044.000 8470562.000, 418044.000 8...</td>\n",
       "    </tr>\n",
       "    <tr>\n",
       "      <th>12667</th>\n",
       "      <td>2.0</td>\n",
       "      <td>POLYGON ((411430.000 8470566.000, 411430.000 8...</td>\n",
       "    </tr>\n",
       "    <tr>\n",
       "      <th>16582</th>\n",
       "      <td>1.0</td>\n",
       "      <td>POLYGON ((417317.000 8470555.500, 417317.000 8...</td>\n",
       "    </tr>\n",
       "    <tr>\n",
       "      <th>29279</th>\n",
       "      <td>2.0</td>\n",
       "      <td>POLYGON ((411911.500 8470571.000, 411911.500 8...</td>\n",
       "    </tr>\n",
       "    <tr>\n",
       "      <th>34211</th>\n",
       "      <td>2.0</td>\n",
       "      <td>POLYGON ((411446.000 8470525.000, 411446.000 8...</td>\n",
       "    </tr>\n",
       "  </tbody>\n",
       "</table>\n",
       "</div>"
      ],
      "text/plain": [
       "       class_id                                           geometry\n",
       "11404       1.0  POLYGON ((418044.000 8470562.000, 418044.000 8...\n",
       "12667       2.0  POLYGON ((411430.000 8470566.000, 411430.000 8...\n",
       "16582       1.0  POLYGON ((417317.000 8470555.500, 417317.000 8...\n",
       "29279       2.0  POLYGON ((411911.500 8470571.000, 411911.500 8...\n",
       "34211       2.0  POLYGON ((411446.000 8470525.000, 411446.000 8..."
      ]
     },
     "execution_count": 25,
     "metadata": {},
     "output_type": "execute_result"
    }
   ],
   "source": [
    "pp = poly_class[['class_id', 'geometry']]\n",
    "pp.head()"
   ]
  },
  {
   "cell_type": "code",
   "execution_count": 26,
   "id": "7c736de8-e9ae-441a-a669-99d7d569f277",
   "metadata": {},
   "outputs": [],
   "source": [
    "# export polygon layer attributed with training classes - becomes training polygons\n",
    "pp.to_file(wd + 'training_data/training_poly.gpkg')"
   ]
  },
  {
   "cell_type": "markdown",
   "id": "871d0712-f561-4013-91f9-b7330679ff28",
   "metadata": {},
   "source": [
    "###### Calculate zonal stats using polgyon"
   ]
  },
  {
   "cell_type": "code",
   "execution_count": 27,
   "id": "34664785-68a7-4517-b4b6-de95449570a2",
   "metadata": {},
   "outputs": [],
   "source": [
    "vec_file = wd + 'training_data/'\n",
    "lyr = 'training_poly.gpkg'\n",
    "# bcount = 45"
   ]
  },
  {
   "cell_type": "code",
   "execution_count": 28,
   "id": "11eee1d7-ab6c-46cd-ad65-d8314fca430d",
   "metadata": {},
   "outputs": [
    {
     "name": "stdout",
     "output_type": "stream",
     "text": [
      "calculating..... ASM\n"
     ]
    },
    {
     "name": "stderr",
     "output_type": "stream",
     "text": [
      "243951it [00:32, 7527.34it/s]                                                                                       \n"
     ]
    },
    {
     "name": "stdout",
     "output_type": "stream",
     "text": [
      "calculating..... blue\n"
     ]
    },
    {
     "name": "stderr",
     "output_type": "stream",
     "text": [
      "243951it [00:32, 7563.16it/s]                                                                                       \n"
     ]
    },
    {
     "name": "stdout",
     "output_type": "stream",
     "text": [
      "calculating..... blue_laplacian\n"
     ]
    },
    {
     "name": "stderr",
     "output_type": "stream",
     "text": [
      "243951it [00:29, 8134.77it/s]                                                                                       \n"
     ]
    },
    {
     "name": "stdout",
     "output_type": "stream",
     "text": [
      "calculating..... blue_maxd\n"
     ]
    },
    {
     "name": "stderr",
     "output_type": "stream",
     "text": [
      "243951it [00:34, 7073.90it/s]                                                                                       \n"
     ]
    },
    {
     "name": "stdout",
     "output_type": "stream",
     "text": [
      "calculating..... b_var\n"
     ]
    },
    {
     "name": "stderr",
     "output_type": "stream",
     "text": [
      "243951it [00:30, 7892.71it/s]                                                                                       \n"
     ]
    },
    {
     "name": "stdout",
     "output_type": "stream",
     "text": [
      "calculating..... Contrast\n"
     ]
    },
    {
     "name": "stderr",
     "output_type": "stream",
     "text": [
      "243951it [00:32, 7518.72it/s]                                                                                       \n"
     ]
    },
    {
     "name": "stdout",
     "output_type": "stream",
     "text": [
      "calculating..... Correlation\n"
     ]
    },
    {
     "name": "stderr",
     "output_type": "stream",
     "text": [
      "243951it [00:31, 7691.44it/s]                                                                                       \n"
     ]
    },
    {
     "name": "stdout",
     "output_type": "stream",
     "text": [
      "calculating..... dem\n"
     ]
    },
    {
     "name": "stderr",
     "output_type": "stream",
     "text": [
      "243951it [00:28, 8446.25it/s]                                                                                       \n"
     ]
    },
    {
     "name": "stdout",
     "output_type": "stream",
     "text": [
      "calculating..... dem_lap\n"
     ]
    },
    {
     "name": "stderr",
     "output_type": "stream",
     "text": [
      "243951it [00:29, 8311.12it/s]                                                                                       \n"
     ]
    },
    {
     "name": "stdout",
     "output_type": "stream",
     "text": [
      "calculating..... dem_maxd\n"
     ]
    },
    {
     "name": "stderr",
     "output_type": "stream",
     "text": [
      "243951it [00:29, 8190.04it/s]                                                                                       \n"
     ]
    },
    {
     "name": "stdout",
     "output_type": "stream",
     "text": [
      "calculating..... dem_slope\n"
     ]
    },
    {
     "name": "stderr",
     "output_type": "stream",
     "text": [
      "243951it [00:30, 8044.56it/s]                                                                                       \n"
     ]
    },
    {
     "name": "stdout",
     "output_type": "stream",
     "text": [
      "calculating..... dhm\n"
     ]
    },
    {
     "name": "stderr",
     "output_type": "stream",
     "text": [
      "243951it [00:32, 7620.11it/s]                                                                                       \n"
     ]
    },
    {
     "name": "stdout",
     "output_type": "stream",
     "text": [
      "calculating..... dhm_lap\n"
     ]
    },
    {
     "name": "stderr",
     "output_type": "stream",
     "text": [
      "243951it [00:29, 8191.58it/s]                                                                                       \n"
     ]
    },
    {
     "name": "stdout",
     "output_type": "stream",
     "text": [
      "calculating..... dhm_maxd\n"
     ]
    },
    {
     "name": "stderr",
     "output_type": "stream",
     "text": [
      "243951it [00:30, 7985.74it/s]                                                                                       \n"
     ]
    },
    {
     "name": "stdout",
     "output_type": "stream",
     "text": [
      "calculating..... dhm_slope\n"
     ]
    },
    {
     "name": "stderr",
     "output_type": "stream",
     "text": [
      "243951it [00:29, 8258.23it/s]                                                                                       \n"
     ]
    },
    {
     "name": "stdout",
     "output_type": "stream",
     "text": [
      "calculating..... dtm\n"
     ]
    },
    {
     "name": "stderr",
     "output_type": "stream",
     "text": [
      "243951it [00:29, 8292.12it/s]                                                                                       \n"
     ]
    },
    {
     "name": "stdout",
     "output_type": "stream",
     "text": [
      "calculating..... dtm_lap\n"
     ]
    },
    {
     "name": "stderr",
     "output_type": "stream",
     "text": [
      "243951it [00:33, 7377.07it/s]                                                                                       \n"
     ]
    },
    {
     "name": "stdout",
     "output_type": "stream",
     "text": [
      "calculating..... dtm_maxd\n"
     ]
    },
    {
     "name": "stderr",
     "output_type": "stream",
     "text": [
      "243951it [00:34, 7121.72it/s]                                                                                       \n"
     ]
    },
    {
     "name": "stdout",
     "output_type": "stream",
     "text": [
      "calculating..... dtm_slope\n"
     ]
    },
    {
     "name": "stderr",
     "output_type": "stream",
     "text": [
      "243951it [00:34, 7114.97it/s]                                                                                       \n"
     ]
    },
    {
     "name": "stdout",
     "output_type": "stream",
     "text": [
      "calculating..... ebi\n"
     ]
    },
    {
     "name": "stderr",
     "output_type": "stream",
     "text": [
      "243951it [00:35, 6921.22it/s]                                                                                       \n"
     ]
    },
    {
     "name": "stdout",
     "output_type": "stream",
     "text": [
      "calculating..... Energy\n"
     ]
    },
    {
     "name": "stderr",
     "output_type": "stream",
     "text": [
      "243951it [00:35, 6844.97it/s]                                                                                       \n"
     ]
    },
    {
     "name": "stdout",
     "output_type": "stream",
     "text": [
      "calculating..... ent\n"
     ]
    },
    {
     "name": "stderr",
     "output_type": "stream",
     "text": [
      "243951it [00:32, 7441.05it/s]                                                                                       \n"
     ]
    },
    {
     "name": "stdout",
     "output_type": "stream",
     "text": [
      "calculating..... fdhm\n"
     ]
    },
    {
     "name": "stderr",
     "output_type": "stream",
     "text": [
      "243951it [00:29, 8184.67it/s]                                                                                       \n"
     ]
    },
    {
     "name": "stdout",
     "output_type": "stream",
     "text": [
      "calculating..... fdhm_lap\n"
     ]
    },
    {
     "name": "stderr",
     "output_type": "stream",
     "text": [
      "243951it [00:30, 7903.93it/s]                                                                                       \n"
     ]
    },
    {
     "name": "stdout",
     "output_type": "stream",
     "text": [
      "calculating..... fdhm_maxd\n"
     ]
    },
    {
     "name": "stderr",
     "output_type": "stream",
     "text": [
      "243951it [00:29, 8291.37it/s]                                                                                       \n"
     ]
    },
    {
     "name": "stdout",
     "output_type": "stream",
     "text": [
      "calculating..... fdhm_slope\n"
     ]
    },
    {
     "name": "stderr",
     "output_type": "stream",
     "text": [
      "243951it [00:29, 8216.54it/s]                                                                                       \n"
     ]
    },
    {
     "name": "stdout",
     "output_type": "stream",
     "text": [
      "calculating..... gndvi\n"
     ]
    },
    {
     "name": "stderr",
     "output_type": "stream",
     "text": [
      "243951it [00:37, 6452.69it/s]                                                                                       \n"
     ]
    },
    {
     "name": "stdout",
     "output_type": "stream",
     "text": [
      "calculating..... green\n"
     ]
    },
    {
     "name": "stderr",
     "output_type": "stream",
     "text": [
      "243951it [00:29, 8261.45it/s]                                                                                       \n"
     ]
    },
    {
     "name": "stdout",
     "output_type": "stream",
     "text": [
      "calculating..... green_laplacian\n"
     ]
    },
    {
     "name": "stderr",
     "output_type": "stream",
     "text": [
      "243951it [00:30, 8003.98it/s]                                                                                       \n"
     ]
    },
    {
     "name": "stdout",
     "output_type": "stream",
     "text": [
      "calculating..... green_maxd\n"
     ]
    },
    {
     "name": "stderr",
     "output_type": "stream",
     "text": [
      "243951it [00:29, 8219.07it/s]                                                                                       \n"
     ]
    },
    {
     "name": "stdout",
     "output_type": "stream",
     "text": [
      "calculating..... g_var\n"
     ]
    },
    {
     "name": "stderr",
     "output_type": "stream",
     "text": [
      "243951it [00:30, 7902.19it/s]                                                                                       \n"
     ]
    },
    {
     "name": "stdout",
     "output_type": "stream",
     "text": [
      "calculating..... Homogeneity\n"
     ]
    },
    {
     "name": "stderr",
     "output_type": "stream",
     "text": [
      "243951it [00:32, 7423.73it/s]                                                                                       \n"
     ]
    },
    {
     "name": "stdout",
     "output_type": "stream",
     "text": [
      "calculating..... ndvi\n"
     ]
    },
    {
     "name": "stderr",
     "output_type": "stream",
     "text": [
      "243951it [00:31, 7662.11it/s]                                                                                       \n"
     ]
    },
    {
     "name": "stdout",
     "output_type": "stream",
     "text": [
      "calculating..... nir\n"
     ]
    },
    {
     "name": "stderr",
     "output_type": "stream",
     "text": [
      "243951it [00:32, 7420.96it/s]                                                                                       \n"
     ]
    },
    {
     "name": "stdout",
     "output_type": "stream",
     "text": [
      "calculating..... NIR_laplacian\n"
     ]
    },
    {
     "name": "stderr",
     "output_type": "stream",
     "text": [
      "243951it [00:29, 8391.05it/s]                                                                                       \n"
     ]
    },
    {
     "name": "stdout",
     "output_type": "stream",
     "text": [
      "calculating..... NIR_maxd\n"
     ]
    },
    {
     "name": "stderr",
     "output_type": "stream",
     "text": [
      "243951it [00:30, 7878.09it/s]                                                                                       \n"
     ]
    },
    {
     "name": "stdout",
     "output_type": "stream",
     "text": [
      "calculating..... n_var\n"
     ]
    },
    {
     "name": "stderr",
     "output_type": "stream",
     "text": [
      "243951it [00:30, 8064.81it/s]                                                                                       \n"
     ]
    },
    {
     "name": "stdout",
     "output_type": "stream",
     "text": [
      "calculating..... red\n"
     ]
    },
    {
     "name": "stderr",
     "output_type": "stream",
     "text": [
      "243951it [00:32, 7570.83it/s]                                                                                       \n"
     ]
    },
    {
     "name": "stdout",
     "output_type": "stream",
     "text": [
      "calculating..... redgreen\n"
     ]
    },
    {
     "name": "stderr",
     "output_type": "stream",
     "text": [
      "243951it [00:33, 7189.26it/s]                                                                                       \n"
     ]
    },
    {
     "name": "stdout",
     "output_type": "stream",
     "text": [
      "calculating..... red_laplacian\n"
     ]
    },
    {
     "name": "stderr",
     "output_type": "stream",
     "text": [
      "243951it [00:33, 7312.08it/s]                                                                                       \n"
     ]
    },
    {
     "name": "stdout",
     "output_type": "stream",
     "text": [
      "calculating..... red_maxd\n"
     ]
    },
    {
     "name": "stderr",
     "output_type": "stream",
     "text": [
      "243951it [00:34, 7021.50it/s]                                                                                       \n"
     ]
    },
    {
     "name": "stdout",
     "output_type": "stream",
     "text": [
      "calculating..... r_var\n"
     ]
    },
    {
     "name": "stderr",
     "output_type": "stream",
     "text": [
      "243951it [00:31, 7624.49it/s]                                                                                       \n"
     ]
    },
    {
     "name": "stdout",
     "output_type": "stream",
     "text": [
      "calculating..... var\n"
     ]
    },
    {
     "name": "stderr",
     "output_type": "stream",
     "text": [
      "243951it [00:36, 6641.21it/s]                                                                                       \n"
     ]
    }
   ],
   "source": [
    "for i in range(bcount):\n",
    "    print('calculating.....', file_ls[i][:-4])\n",
    "    zonalstats.calc_zonal_band_stats_file(\n",
    "        vec_file = vec_file + lyr,\n",
    "        vec_lyr = lyr[:-5],\n",
    "        input_img = out_fn + 'masked_stack.tif',\n",
    "        img_band = i+1,\n",
    "        min_thres = -1000,\n",
    "        max_thres = 70000,\n",
    "        out_no_data_val = -9999,\n",
    "        mean_field = file_ls[i][:-4]\n",
    ")"
   ]
  },
  {
   "cell_type": "code",
   "execution_count": 29,
   "id": "befa4db5-7fe8-40cd-849b-ca0ccab2bf6f",
   "metadata": {},
   "outputs": [
    {
     "data": {
      "text/html": [
       "<div>\n",
       "<style scoped>\n",
       "    .dataframe tbody tr th:only-of-type {\n",
       "        vertical-align: middle;\n",
       "    }\n",
       "\n",
       "    .dataframe tbody tr th {\n",
       "        vertical-align: top;\n",
       "    }\n",
       "\n",
       "    .dataframe thead th {\n",
       "        text-align: right;\n",
       "    }\n",
       "</style>\n",
       "<table border=\"1\" class=\"dataframe\">\n",
       "  <thead>\n",
       "    <tr style=\"text-align: right;\">\n",
       "      <th></th>\n",
       "      <th>class_id</th>\n",
       "      <th>asm</th>\n",
       "      <th>blue</th>\n",
       "      <th>blue_laplacian</th>\n",
       "      <th>blue_maxd</th>\n",
       "      <th>b_var</th>\n",
       "      <th>contrast</th>\n",
       "      <th>correlation</th>\n",
       "      <th>dem</th>\n",
       "      <th>dem_lap</th>\n",
       "      <th>...</th>\n",
       "      <th>nir_laplacian</th>\n",
       "      <th>nir_maxd</th>\n",
       "      <th>n_var</th>\n",
       "      <th>red</th>\n",
       "      <th>redgreen</th>\n",
       "      <th>red_laplacian</th>\n",
       "      <th>red_maxd</th>\n",
       "      <th>r_var</th>\n",
       "      <th>var</th>\n",
       "      <th>geometry</th>\n",
       "    </tr>\n",
       "  </thead>\n",
       "  <tbody>\n",
       "    <tr>\n",
       "      <th>0</th>\n",
       "      <td>1.0</td>\n",
       "      <td>1.0</td>\n",
       "      <td>251.000000</td>\n",
       "      <td>317.333344</td>\n",
       "      <td>490.000000</td>\n",
       "      <td>0.000000</td>\n",
       "      <td>0.0</td>\n",
       "      <td>1.0</td>\n",
       "      <td>13.563141</td>\n",
       "      <td>1.820106</td>\n",
       "      <td>...</td>\n",
       "      <td>62143.332031</td>\n",
       "      <td>4094.666748</td>\n",
       "      <td>4.666667</td>\n",
       "      <td>553.000000</td>\n",
       "      <td>-0.004821</td>\n",
       "      <td>3161.333252</td>\n",
       "      <td>4267.666504</td>\n",
       "      <td>0.000000</td>\n",
       "      <td>0.0</td>\n",
       "      <td>POLYGON ((418044.000 8470562.000, 418044.000 8...</td>\n",
       "    </tr>\n",
       "    <tr>\n",
       "      <th>1</th>\n",
       "      <td>2.0</td>\n",
       "      <td>1.0</td>\n",
       "      <td>326.885101</td>\n",
       "      <td>432.353180</td>\n",
       "      <td>531.846802</td>\n",
       "      <td>0.000000</td>\n",
       "      <td>0.0</td>\n",
       "      <td>1.0</td>\n",
       "      <td>94.899628</td>\n",
       "      <td>-0.141895</td>\n",
       "      <td>...</td>\n",
       "      <td>61271.457031</td>\n",
       "      <td>4510.659668</td>\n",
       "      <td>0.600000</td>\n",
       "      <td>570.872314</td>\n",
       "      <td>-0.137265</td>\n",
       "      <td>4394.221191</td>\n",
       "      <td>4757.425293</td>\n",
       "      <td>0.000000</td>\n",
       "      <td>0.0</td>\n",
       "      <td>POLYGON ((411430.000 8470566.000, 411430.000 8...</td>\n",
       "    </tr>\n",
       "    <tr>\n",
       "      <th>2</th>\n",
       "      <td>1.0</td>\n",
       "      <td>1.0</td>\n",
       "      <td>271.444458</td>\n",
       "      <td>407.888885</td>\n",
       "      <td>793.777771</td>\n",
       "      <td>0.111111</td>\n",
       "      <td>0.0</td>\n",
       "      <td>1.0</td>\n",
       "      <td>3.999743</td>\n",
       "      <td>-0.546680</td>\n",
       "      <td>...</td>\n",
       "      <td>62285.000000</td>\n",
       "      <td>4352.222168</td>\n",
       "      <td>5.888889</td>\n",
       "      <td>494.777771</td>\n",
       "      <td>-0.097107</td>\n",
       "      <td>3363.666748</td>\n",
       "      <td>4496.666504</td>\n",
       "      <td>0.222222</td>\n",
       "      <td>0.0</td>\n",
       "      <td>POLYGON ((417317.000 8470555.500, 417317.000 8...</td>\n",
       "    </tr>\n",
       "    <tr>\n",
       "      <th>3</th>\n",
       "      <td>2.0</td>\n",
       "      <td>1.0</td>\n",
       "      <td>435.585571</td>\n",
       "      <td>309.983490</td>\n",
       "      <td>639.480469</td>\n",
       "      <td>0.000000</td>\n",
       "      <td>0.0</td>\n",
       "      <td>1.0</td>\n",
       "      <td>80.613716</td>\n",
       "      <td>-0.006478</td>\n",
       "      <td>...</td>\n",
       "      <td>63573.472656</td>\n",
       "      <td>2486.376953</td>\n",
       "      <td>0.202703</td>\n",
       "      <td>962.057068</td>\n",
       "      <td>0.123762</td>\n",
       "      <td>1752.559326</td>\n",
       "      <td>2796.502197</td>\n",
       "      <td>0.000000</td>\n",
       "      <td>0.0</td>\n",
       "      <td>POLYGON ((411911.500 8470571.000, 411911.500 8...</td>\n",
       "    </tr>\n",
       "    <tr>\n",
       "      <th>4</th>\n",
       "      <td>2.0</td>\n",
       "      <td>1.0</td>\n",
       "      <td>225.142853</td>\n",
       "      <td>261.111115</td>\n",
       "      <td>452.317474</td>\n",
       "      <td>0.000000</td>\n",
       "      <td>0.0</td>\n",
       "      <td>1.0</td>\n",
       "      <td>99.454094</td>\n",
       "      <td>-2.103567</td>\n",
       "      <td>...</td>\n",
       "      <td>61611.808594</td>\n",
       "      <td>4637.507812</td>\n",
       "      <td>4.285714</td>\n",
       "      <td>418.269836</td>\n",
       "      <td>-0.083401</td>\n",
       "      <td>3902.444336</td>\n",
       "      <td>4783.349121</td>\n",
       "      <td>0.000000</td>\n",
       "      <td>0.0</td>\n",
       "      <td>POLYGON ((411446.000 8470525.000, 411446.000 8...</td>\n",
       "    </tr>\n",
       "  </tbody>\n",
       "</table>\n",
       "<p>5 rows × 45 columns</p>\n",
       "</div>"
      ],
      "text/plain": [
       "   class_id  asm        blue  blue_laplacian   blue_maxd     b_var  contrast  \\\n",
       "0       1.0  1.0  251.000000      317.333344  490.000000  0.000000       0.0   \n",
       "1       2.0  1.0  326.885101      432.353180  531.846802  0.000000       0.0   \n",
       "2       1.0  1.0  271.444458      407.888885  793.777771  0.111111       0.0   \n",
       "3       2.0  1.0  435.585571      309.983490  639.480469  0.000000       0.0   \n",
       "4       2.0  1.0  225.142853      261.111115  452.317474  0.000000       0.0   \n",
       "\n",
       "   correlation        dem   dem_lap  ...  nir_laplacian     nir_maxd  \\\n",
       "0          1.0  13.563141  1.820106  ...   62143.332031  4094.666748   \n",
       "1          1.0  94.899628 -0.141895  ...   61271.457031  4510.659668   \n",
       "2          1.0   3.999743 -0.546680  ...   62285.000000  4352.222168   \n",
       "3          1.0  80.613716 -0.006478  ...   63573.472656  2486.376953   \n",
       "4          1.0  99.454094 -2.103567  ...   61611.808594  4637.507812   \n",
       "\n",
       "      n_var         red  redgreen  red_laplacian     red_maxd     r_var  var  \\\n",
       "0  4.666667  553.000000 -0.004821    3161.333252  4267.666504  0.000000  0.0   \n",
       "1  0.600000  570.872314 -0.137265    4394.221191  4757.425293  0.000000  0.0   \n",
       "2  5.888889  494.777771 -0.097107    3363.666748  4496.666504  0.222222  0.0   \n",
       "3  0.202703  962.057068  0.123762    1752.559326  2796.502197  0.000000  0.0   \n",
       "4  4.285714  418.269836 -0.083401    3902.444336  4783.349121  0.000000  0.0   \n",
       "\n",
       "                                            geometry  \n",
       "0  POLYGON ((418044.000 8470562.000, 418044.000 8...  \n",
       "1  POLYGON ((411430.000 8470566.000, 411430.000 8...  \n",
       "2  POLYGON ((417317.000 8470555.500, 417317.000 8...  \n",
       "3  POLYGON ((411911.500 8470571.000, 411911.500 8...  \n",
       "4  POLYGON ((411446.000 8470525.000, 411446.000 8...  \n",
       "\n",
       "[5 rows x 45 columns]"
      ]
     },
     "execution_count": 29,
     "metadata": {},
     "output_type": "execute_result"
    }
   ],
   "source": [
    "# open vector dataset\n",
    "# read in training/testing data - with zonal statistics/pixel values\n",
    "input_data = gpd.read_file(os.path.join(vec_file + lyr))\n",
    "input_data = input_data.dropna() # drop na values\n",
    "input_data.head() # preview shapefile"
   ]
  },
  {
   "cell_type": "code",
   "execution_count": 30,
   "id": "a20da034-5cb7-40f3-a6c6-7c076b265d0f",
   "metadata": {},
   "outputs": [],
   "source": [
    "# write vec layer to folder\n",
    "input_data.to_file(vec_file + 'gcp_poly_mean_val.gpkg')"
   ]
  },
  {
   "cell_type": "code",
   "execution_count": null,
   "id": "61d71985-2c3c-4ba6-ae06-a1d8eb03db34",
   "metadata": {},
   "outputs": [],
   "source": []
  }
 ],
 "metadata": {
  "kernelspec": {
   "display_name": "Python 3 (ipykernel)",
   "language": "python",
   "name": "python3"
  },
  "language_info": {
   "codemirror_mode": {
    "name": "ipython",
    "version": 3
   },
   "file_extension": ".py",
   "mimetype": "text/x-python",
   "name": "python",
   "nbconvert_exporter": "python",
   "pygments_lexer": "ipython3",
   "version": "3.12.1"
  }
 },
 "nbformat": 4,
 "nbformat_minor": 5
}
